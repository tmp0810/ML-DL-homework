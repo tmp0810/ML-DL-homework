{
  "cells": [
    {
      "cell_type": "markdown",
      "metadata": {
        "id": "W6BUWjY5gOEn"
      },
      "source": [
        "# Đề bài về nhà"
      ]
    },
    {
      "cell_type": "markdown",
      "metadata": {
        "id": "56lCuScZgOEu"
      },
      "source": [
        "## Yêu cầu"
      ]
    },
    {
      "cell_type": "markdown",
      "metadata": {
        "id": "hmo4jQBigOEv"
      },
      "source": [
        "- Tự viết code cho mô hình Linear Regression theo công thức đã được dạy trong buổi lý thuyết trên lớp.\n",
        "- Tự viết hàm dự đoán.\n",
        "- Huấn luyện cả mô hình của thư viện và mô hình mình tự viết.\n",
        "- In ra các trọng số: w0, w1, w2, ..., wn của cả 2 mô hình đã huấn luyện để quan sát và so sánh.\n",
        "- Dự đoán dữ liệu tập test bằng cả 2 mô hình (mô hình thư viện thì dùng hàm predict() của thư viện, mô hình tự viết dùng hàm dự đoán tự viết), in ra kết quả bằng Dataframe như trong bài thực hành trên lớp.\n",
        "- Tính RMSE trên tập test cho cả 2 mô hình và so sánh."
      ]
    },
    {
      "cell_type": "markdown",
      "metadata": {
        "id": "sbiyKOfggOEv"
      },
      "source": [
        "## Dữ liệu"
      ]
    },
    {
      "cell_type": "markdown",
      "metadata": {
        "id": "SsatFAlugOEw"
      },
      "source": [
        "Tập dữ liệu giá nhà ở Boston đã có sẵn trên sklearn, dữ liệu đã được chuẩn hóa và chia thành tập train, tập test"
      ]
    },
    {
      "cell_type": "code",
      "execution_count": null,
      "metadata": {
        "colab": {
          "background_save": true
        },
        "id": "-cDLEiozgOEx"
      },
      "outputs": [],
      "source": [
        "import matplotlib.pyplot as plt\n",
        "import numpy as np\n",
        "import pandas as pd\n",
        "import math\n",
        "\n",
        "from sklearn import datasets, linear_model\n",
        "from sklearn.metrics import mean_squared_error, r2_score"
      ]
    },
    {
      "cell_type": "markdown",
      "metadata": {
        "id": "-HoL9Nh9gOEz"
      },
      "source": [
        "# Đọc dữ liệu\n",
        "\n",
        "Dữ liệu về giá nhà ở Boston được hỗ trợ bởi sklearn, đọc dữ liệu thông qua hàm `datasets.load_boston()`\n",
        "\n",
        "Xem thêm các bộ dữ liệu khác tại https://scikit-learn.org/stable/datasets/index.html#toy-datasets.\n",
        "\n",
        "Dữ liệu được chia thành các thành phần data và target như tập diabetes. Dữ liệu cũng đã được chuẩn hóa, chỉ cần gọi ra và huấn luyện"
      ]
    },
    {
      "cell_type": "code",
      "execution_count": null,
      "metadata": {
        "colab": {
          "base_uri": "https://localhost:8080/"
        },
        "id": "uD8gKA6dgOEz",
        "outputId": "b900c911-b38b-470a-ab8d-cb9a46a368f0"
      },
      "outputs": [
        {
          "name": "stdout",
          "output_type": "stream",
          "text": [
            "Số chiều dữ liệu input:  (20640, 8)\n",
            "Số chiều dữ liệu target:  (20640,)\n",
            "\n",
            "5 mẫu dữ liệu đầu tiên:\n",
            "input:  [[ 8.32520000e+00  4.10000000e+01  6.98412698e+00  1.02380952e+00\n",
            "   3.22000000e+02  2.55555556e+00  3.78800000e+01 -1.22230000e+02]\n",
            " [ 8.30140000e+00  2.10000000e+01  6.23813708e+00  9.71880492e-01\n",
            "   2.40100000e+03  2.10984183e+00  3.78600000e+01 -1.22220000e+02]\n",
            " [ 7.25740000e+00  5.20000000e+01  8.28813559e+00  1.07344633e+00\n",
            "   4.96000000e+02  2.80225989e+00  3.78500000e+01 -1.22240000e+02]\n",
            " [ 5.64310000e+00  5.20000000e+01  5.81735160e+00  1.07305936e+00\n",
            "   5.58000000e+02  2.54794521e+00  3.78500000e+01 -1.22250000e+02]\n",
            " [ 3.84620000e+00  5.20000000e+01  6.28185328e+00  1.08108108e+00\n",
            "   5.65000000e+02  2.18146718e+00  3.78500000e+01 -1.22250000e+02]]\n",
            "target:  [4.526 3.585 3.521 3.413 3.422]\n"
          ]
        }
      ],
      "source": [
        "# lay du lieu dataset - du lieu ve giá nhà\n",
        "from sklearn.datasets import fetch_california_housing\n",
        "\n",
        "dataset = fetch_california_housing()\n",
        "\n",
        "print(\"Số chiều dữ liệu input: \", dataset.data.shape)\n",
        "print(\"Số chiều dữ liệu target: \", dataset.target.shape)\n",
        "print()\n",
        "\n",
        "print(\"5 mẫu dữ liệu đầu tiên:\")\n",
        "print(\"input: \", dataset.data[:5])\n",
        "print(\"target: \",dataset.target[:5])"
      ]
    },
    {
      "cell_type": "markdown",
      "metadata": {
        "id": "c3sudbdCgOE2"
      },
      "source": [
        "**Chia dữ liệu làm 2 phần training 362 mẫu và testing 80 mẫu**"
      ]
    },
    {
      "cell_type": "code",
      "execution_count": null,
      "metadata": {
        "id": "FmU01rVvgOE3"
      },
      "outputs": [],
      "source": [
        "# cat nho du lieu, lay 1 phan cho qua trinh thu nghiem,\n",
        "# chia train test cac mau du lieu\n",
        "# dataset_X = dataset.data[:, np.newaxis, 2]\n",
        "dataset_X = dataset.data\n",
        "\n",
        "dataset_X_train = dataset_X[:404]\n",
        "dataset_y_train = dataset.target[:404]\n",
        "\n",
        "dataset_X_test = dataset_X[405:]\n",
        "dataset_y_test = dataset.target[405:]"
      ]
    },
    {
      "cell_type": "markdown",
      "metadata": {
        "id": "W-hM8qehgOE4"
      },
      "source": [
        "# Xây dựng mô hình"
      ]
    },
    {
      "cell_type": "markdown",
      "metadata": {
        "id": "WQkPYW2ngOE4"
      },
      "source": [
        "## Xây dựng mô hình bằng thư viện"
      ]
    },
    {
      "cell_type": "markdown",
      "metadata": {
        "id": "QQbIBnc0gOE5"
      },
      "source": [
        "## Xây dựng mô hình Linear Regression tự viết"
      ]
    },
    {
      "cell_type": "markdown",
      "metadata": {
        "id": "v6_WAHW_gOE5"
      },
      "source": [
        "## Hàm test mô hình tự viết"
      ]
    },
    {
      "cell_type": "markdown",
      "metadata": {
        "id": "Rmb9U4djgOE6"
      },
      "source": [
        "# Huấn luyện mô hình"
      ]
    },
    {
      "cell_type": "markdown",
      "metadata": {
        "id": "Y4CFf_8KgOE6"
      },
      "source": [
        "## Huấn luyện mô hình của thư viện"
      ]
    },
    {
      "cell_type": "markdown",
      "metadata": {
        "id": "QgDtJ4KpgOE7"
      },
      "source": [
        "## Training mô hình bằng Linear regression tự viết"
      ]
    },
    {
      "cell_type": "markdown",
      "metadata": {
        "id": "PqXuWf0kgOE7"
      },
      "source": [
        "# Dự đoán các mẫu dữ liệu"
      ]
    },
    {
      "cell_type": "markdown",
      "metadata": {
        "id": "s6q0pUhXgOE8"
      },
      "source": [
        "## Dự đoán các mẫu dữ liệu theo mô hình của thư viện"
      ]
    },
    {
      "cell_type": "markdown",
      "metadata": {
        "id": "2RkBB6FIgOE9"
      },
      "source": [
        "## Dự đoán các mẫu dữ liệu tính theo linear regression tự viết"
      ]
    },
    {
      "cell_type": "markdown",
      "metadata": {
        "id": "fB7YQZCogOE9"
      },
      "source": [
        "## Đánh giá mô hình linear regression của thư viện"
      ]
    },
    {
      "cell_type": "markdown",
      "metadata": {
        "id": "RMmZBwCYgOE-"
      },
      "source": [
        "## Đánh giá mô hình linear regression tự viết"
      ]
    },
    {
      "cell_type": "code",
      "execution_count": null,
      "metadata": {
        "id": "Sjrt-FGppHwP"
      },
      "outputs": [],
      "source": [
        "# Công thức tính RMSE:\n",
        "from sklearn.metrics import mean_squared_error\n",
        "def RMSE(y_test, y_predict):\n",
        "    return math.sqrt(mean_squared_error(y_test, y_predict))"
      ]
    },
    {
      "cell_type": "code",
      "execution_count": null,
      "metadata": {
        "colab": {
          "base_uri": "https://localhost:8080/"
        },
        "id": "i419kYtugOE-",
        "outputId": "aa7ffbb2-2c5f-4f26-d8d3-064b2f16d59e"
      },
      "outputs": [
        {
          "name": "stdout",
          "output_type": "stream",
          "text": [
            "Hệ số (coefficients): [ 3.04947119e-01 -5.68058047e-03  2.32993115e-02 -8.21109567e-01\n",
            "  1.14046559e-04 -7.99831981e-02  9.32223296e+00  1.75170090e+00]\n",
            "Kết quả dự đoán:\n",
            "[ 3.55089447  3.74663074  4.30741201 ... 18.40373074 18.22005397\n",
            " 18.01158289]\n",
            "RMSE: 23.190638953071613\n"
          ]
        }
      ],
      "source": [
        "# Mô hình LinearRegression của thử viện\n",
        "\n",
        "from sklearn.linear_model import LinearRegression\n",
        "from sklearn.linear_model import Lasso\n",
        "from sklearn.linear_model import Ridge\n",
        "\n",
        "\n",
        "model_sklearn = LinearRegression()\n",
        "\n",
        "model_sklearn.fit(dataset_X_train, dataset_y_train)\n",
        "y_predict = model_sklearn.predict(dataset_X_test)\n",
        "coefficients = model_sklearn.coef_\n",
        "intercept = model_sklearn.intercept_\n",
        "\n",
        "\n",
        "# In ra các hệ số\n",
        "print(\"Hệ số (coefficients):\", coefficients)\n",
        "\n",
        "# In ra kết quả dự đoán\n",
        "print(\"Kết quả dự đoán:\")\n",
        "print(y_predict)\n",
        "\n",
        "# In ra RMSE\n",
        "print(\"RMSE:\", RMSE(dataset_y_test, y_predict))\n"
      ]
    },
    {
      "cell_type": "code",
      "execution_count": null,
      "metadata": {
        "colab": {
          "base_uri": "https://localhost:8080/"
        },
        "id": "gpEQuNgHrHA-",
        "outputId": "55ad2b6e-377b-4ff8-c768-3ddb07a15ba6"
      },
      "outputs": [
        {
          "name": "stdout",
          "output_type": "stream",
          "text": [
            "Kết quả dự đoán:\n",
            "[ 3.55089448  3.74663074  4.30741201 ... 18.403731   18.22005422\n",
            " 18.01158314]\n",
            "Hệ số (coefficients): [-1.36382966e+02  3.04947118e-01 -5.68058048e-03  2.32993111e-02\n",
            " -8.21109563e-01  1.14046559e-04 -7.99831976e-02  9.32223307e+00\n",
            "  1.75170098e+00]\n",
            "RMSE: 23.190639017687364\n"
          ]
        }
      ],
      "source": [
        "# Mô hình LinearRegression tự viết\n",
        "\n",
        "class LinearRegression:\n",
        "    def __init__(self):\n",
        "        self.coefficients = None\n",
        "\n",
        "    def fit(self, X, y):\n",
        "        # Thêm cột 1 cho hệ số tự do (w0)\n",
        "        X = np.c_[np.ones(X.shape[0]), X]\n",
        "\n",
        "        # Tính toán các hệ số bằng OLS(bình phương tối thiểu)\n",
        "        X_transpose = np.transpose(X)\n",
        "        self.coefficients = np.dot(np.linalg.inv(np.dot(X_transpose, X)), np.dot(X_transpose, y))\n",
        "\n",
        "    def predict(self, X):\n",
        "        # Thêm cột 1 cho hệ số tự do (w0)\n",
        "        X = np.c_[np.ones(X.shape[0]), X]\n",
        "\n",
        "        # Dự đoán\n",
        "        return np.dot(X, self.coefficients)\n",
        "\n",
        "\n",
        "# Huấn luyện mô hình\n",
        "my_model = LinearRegression()\n",
        "my_model.fit(dataset_X_train, dataset_y_train)\n",
        "y_predict = my_model.predict(dataset_X_test)\n",
        "\n",
        "# In ra kểt quả dự đoán:\n",
        "\n",
        "print(\"Kết quả dự đoán:\")\n",
        "print(y_predict)\n",
        "\n",
        "# In ra các hệ số\n",
        "print(\"Hệ số (coefficients):\", my_model.coefficients)\n",
        "\n",
        "# In ra RMSE\n",
        "print(\"RMSE:\", RMSE(dataset_y_test, y_predict))"
      ]
    }
  ],
  "metadata": {
    "colab": {
      "provenance": []
    },
    "kernelspec": {
      "display_name": "Python 3",
      "language": "python",
      "name": "python3"
    },
    "language_info": {
      "codemirror_mode": {
        "name": "ipython",
        "version": 3
      },
      "file_extension": ".py",
      "mimetype": "text/x-python",
      "name": "python",
      "nbconvert_exporter": "python",
      "pygments_lexer": "ipython3",
      "version": "3.8.8"
    }
  },
  "nbformat": 4,
  "nbformat_minor": 0
}