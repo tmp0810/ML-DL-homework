{
  "nbformat": 4,
  "nbformat_minor": 0,
  "metadata": {
    "kernelspec": {
      "display_name": "Python 2",
      "language": "python",
      "name": "python2"
    },
    "language_info": {
      "codemirror_mode": {
        "name": "ipython",
        "version": 2
      },
      "file_extension": ".py",
      "mimetype": "text/x-python",
      "name": "python",
      "nbconvert_exporter": "python",
      "pygments_lexer": "ipython2",
      "version": "2.7.15"
    },
    "colab": {
      "provenance": []
    }
  },
  "cells": [
    {
      "cell_type": "markdown",
      "metadata": {
        "id": "pVkQHipC35QJ"
      },
      "source": [
        "# Bi-directional Recurrent Neural Network Example\n",
        "\n",
        "Xây dựng mạng RNN 2 chiều với PyTorch"
      ]
    },
    {
      "cell_type": "markdown",
      "metadata": {
        "id": "3ohdKVqt35QL"
      },
      "source": [
        "## Tổng quan về BiRNN\n",
        "\n",
        "<img src=\"https://www.easy-tensorflow.com/images/NN/03.png\" alt=\"nn\" style=\"width: 600px;\"/>\n",
        "\n",
        "\n",
        "## Tổng quan về bộ dữ liệu MNIST\n",
        "\n",
        "Ví dụ này sử dụng bộ dữ liệu về chữ số viết tay MNIST. Bộ dữ liệu chữa 60k mẫu cho huấn luyện và 10k mẫu cho kiểm thử.\n",
        "\n",
        "![MNIST Dataset](https://i1.wp.com/varianceexplained.org/images/mnist.png?w=456)\n",
        "\n",
        "Để phân loại hình ảnh sử dụng RNN, chúng ta sẽ coi mỗi hàng là 1 chuỗi pixels. Bởi vì kích thước ảnh là 28*28px, ta sẽ sử lý 28 chuỗi của 28 timesteps cho tất cả các sample."
      ]
    },
    {
      "cell_type": "code",
      "metadata": {
        "id": "8t6UCwCB35QN"
      },
      "source": [
        "import torch\n",
        "import torch.nn as nn\n",
        "import torch.nn.functional as F\n",
        "import torch.optim as optim\n",
        "import torchvision\n",
        "import torchvision.transforms as transforms\n",
        "from torch.autograd import Variable\n",
        "import numpy as np"
      ],
      "execution_count": null,
      "outputs": []
    },
    {
      "cell_type": "code",
      "metadata": {
        "id": "2bVsHfAT35QO",
        "colab": {
          "base_uri": "https://localhost:8080/"
        },
        "outputId": "5c38dd01-d36f-4cc2-9b9e-29f242367ac6"
      },
      "source": [
        "# Chuẩn bị dữ liệu\n",
        "from tensorflow.keras.datasets import mnist\n",
        "(x_train, y_train), (x_test, y_test) = mnist.load_data()\n",
        "# Chuyển đổi sang định dạng float32.\n",
        "x_train, x_test = np.array(x_train, np.float32), np.array(x_test, np.float32)\n",
        "x_train, x_test = x_train.reshape([-1, 28, 28]), x_test.reshape([-1, 28, 28])\n",
        "# Chuẩn hóa ảnh từ from [0, 255] to [0, 1].\n",
        "x_train, x_test = x_train / 255., x_test / 255.\n",
        "x_train, x_test, y_train, y_test = torch.from_numpy(x_train), torch.from_numpy(x_test), torch.from_numpy(y_train).type(torch.LongTensor), torch.from_numpy(y_test).type(torch.LongTensor)"
      ],
      "execution_count": null,
      "outputs": [
        {
          "output_type": "stream",
          "name": "stdout",
          "text": [
            "Downloading data from https://storage.googleapis.com/tensorflow/tf-keras-datasets/mnist.npz\n",
            "\u001b[1m11490434/11490434\u001b[0m \u001b[32m━━━━━━━━━━━━━━━━━━━━\u001b[0m\u001b[37m\u001b[0m \u001b[1m0s\u001b[0m 0us/step\n"
          ]
        }
      ]
    },
    {
      "cell_type": "code",
      "metadata": {
        "id": "T1OG2tCW35QO"
      },
      "source": [
        "trainloader = []\n",
        "batch_size = 16\n",
        "for (i,j) in zip(x_train, y_train):\n",
        "    trainloader.append([i,j])\n",
        "trainloader = torch.utils.data.DataLoader(trainloader, shuffle=True, batch_size=batch_size)\n",
        "\n",
        "testloader = []\n",
        "for (i,j) in zip(x_test, y_test):\n",
        "    testloader.append([i,j])\n",
        "testloader = torch.utils.data.DataLoader(testloader, shuffle=True, batch_size=16)"
      ],
      "execution_count": null,
      "outputs": []
    },
    {
      "cell_type": "code",
      "metadata": {
        "id": "xzcLVHaz35QP"
      },
      "source": [
        "# Khởi tạo mô hình BiRNN\n",
        "class BiRNNModel(nn.Module):\n",
        "    def __init__(self, input_dim, hidden_dim, layer_dim, output_dim):\n",
        "        super(BiRNNModel, self).__init__()\n",
        "\n",
        "        # Thiết lập số chiều của tầng ẩn\n",
        "        self.hidden_dim = hidden_dim\n",
        "\n",
        "        # Thiết lập số layers\n",
        "        self.layer_dim = layer_dim\n",
        "\n",
        "        # RNN\n",
        "        self.rnn = nn.RNN(input_size=input_dim, hidden_size=hidden_dim, num_layers=layer_dim, batch_first=True, nonlinearity='relu', bidirectional=True)\n",
        "\n",
        "        # Readout layer\n",
        "        self.fc = nn.Linear(hidden_dim * 2, output_dim) #Do là mạng hai chiều\n",
        "\n",
        "    def forward(self, x):\n",
        "\n",
        "        # Khởi tạo hidden state\n",
        "        h0 = Variable(torch.zeros(self.layer_dim * 2, x.size(0), self.hidden_dim))\n",
        "        # print(1)\n",
        "        # One time step\n",
        "        out, hn = self.rnn(x, h0)\n",
        "        # print(2)\n",
        "        # print(out.shape)\n",
        "        out = self.fc(out[:, -1, :])\n",
        "        # print(3)\n",
        "        return out"
      ],
      "execution_count": null,
      "outputs": []
    },
    {
      "cell_type": "code",
      "metadata": {
        "id": "4sTvxZ7H35QP"
      },
      "source": [
        "# Create RNN\n",
        "input_dim = 28    # chiều của input\n",
        "hidden_dim = 100  # chiều của hidden state\n",
        "layer_dim = 1     # số tầng ẩn\n",
        "output_dim = 10   # chiều của vector output\n",
        "\n",
        "model = BiRNNModel(input_dim, hidden_dim, layer_dim, output_dim)\n",
        "\n",
        "# Cross Entropy Loss\n",
        "import torch.optim as optim\n",
        "criterion = nn.CrossEntropyLoss()\n",
        "optimizer = optim.SGD(model.parameters(), lr=0.001, momentum=0.9)"
      ],
      "execution_count": null,
      "outputs": []
    },
    {
      "cell_type": "code",
      "metadata": {
        "id": "wSRrl4HM35QQ",
        "colab": {
          "base_uri": "https://localhost:8080/"
        },
        "outputId": "5c32a2dc-c456-45f9-cde8-f804e2418aa3"
      },
      "source": [
        "for epoch in range(2):  # loop over the dataset multiple times\n",
        "\n",
        "    running_loss = 0.0\n",
        "    for i, data in enumerate(trainloader, 0):\n",
        "        # get the inputs; data is a list of [inputs, labels]\n",
        "        inputs, labels = data\n",
        "        # zero the parameter gradients\n",
        "        optimizer.zero_grad()\n",
        "\n",
        "        # forward + backward + optimize\n",
        "        outputs = model(inputs)\n",
        "        loss = criterion(outputs, labels)\n",
        "        loss.backward()\n",
        "        optimizer.step()\n",
        "\n",
        "        # print statistics\n",
        "        running_loss += loss.item()\n",
        "        if i % 1000 == 999:    # print every 2000 mini-batches\n",
        "            print('[%d, %5d] loss: %.3f' %\n",
        "                  (epoch + 1, i + 1, running_loss / 2000))\n",
        "            running_loss = 0.0\n",
        "\n",
        "print('Finished Training')"
      ],
      "execution_count": null,
      "outputs": [
        {
          "output_type": "stream",
          "name": "stdout",
          "text": [
            "[1,  1000] loss: 1.151\n",
            "[1,  2000] loss: 1.148\n",
            "[1,  3000] loss: 1.117\n",
            "[2,  1000] loss: 0.496\n",
            "[2,  2000] loss: 0.352\n",
            "[2,  3000] loss: 0.286\n",
            "Finished Training\n"
          ]
        }
      ]
    },
    {
      "cell_type": "code",
      "metadata": {
        "id": "Z3jbou1z35QR",
        "colab": {
          "base_uri": "https://localhost:8080/"
        },
        "outputId": "346ed523-d2b9-4dff-bc99-002adaac29fb"
      },
      "source": [
        "correct = 0\n",
        "total = 0\n",
        "# quá trình kiểm thử ko cần thiết phải tính gradients cho output\n",
        "with torch.no_grad():\n",
        "    for data in testloader:\n",
        "        images, labels = data\n",
        "        # calculate outputs by running images through the network\n",
        "        outputs = model(images)\n",
        "        # the class with the highest energy is what we choose as prediction\n",
        "        _, predicted = torch.max(outputs.data, 1)\n",
        "        total += labels.size(0)\n",
        "        correct += (predicted == labels).sum().item()\n",
        "\n",
        "print('Accuracy of the network on the 10000 test images: %d %%' % (\n",
        "    100 * correct / total))"
      ],
      "execution_count": null,
      "outputs": [
        {
          "output_type": "stream",
          "name": "stdout",
          "text": [
            "Accuracy of the network on the 10000 test images: 86 %\n"
          ]
        }
      ]
    },
    {
      "cell_type": "code",
      "metadata": {
        "id": "FYA6P7VxZzej"
      },
      "source": [],
      "execution_count": null,
      "outputs": []
    }
  ]
}