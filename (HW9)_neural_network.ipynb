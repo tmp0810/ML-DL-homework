{
  "nbformat": 4,
  "nbformat_minor": 0,
  "metadata": {
    "kernelspec": {
      "display_name": "Python [conda env:root] *",
      "language": "python",
      "name": "conda-root-py"
    },
    "language_info": {
      "codemirror_mode": {
        "name": "ipython",
        "version": 3
      },
      "file_extension": ".py",
      "mimetype": "text/x-python",
      "name": "python",
      "nbconvert_exporter": "python",
      "pygments_lexer": "ipython3",
      "version": "3.7.10"
    },
    "colab": {
      "provenance": []
    }
  },
  "cells": [
    {
      "cell_type": "markdown",
      "metadata": {
        "id": "3x9uySjxDhZ0"
      },
      "source": [
        "# Neural Network Example\n",
        "\n",
        "Xây dựng neural network với hai tầng ẩn (hidden layer). Các trọng số và mối liên hệ giữa các tầng ẩn được thiết lập và cài đặt bằng việc sử dụng API của thư viện PyTorch"
      ]
    },
    {
      "cell_type": "markdown",
      "metadata": {
        "id": "t_U1OnHRDhZ4"
      },
      "source": [
        "## Neural Network Overview\n",
        "\n",
        "<img src=\"http://cs231n.github.io/assets/nn1/neural_net2.jpeg\" alt=\"nn\" style=\"width: 400px;\"/>\n",
        "\n",
        "## MNIST Dataset Overview\n",
        "\n"
      ]
    },
    {
      "cell_type": "code",
      "metadata": {
        "id": "qdOjSpvgDhZ5"
      },
      "source": [
        "from __future__ import absolute_import, division, print_function\n",
        "\n",
        "import torch\n",
        "import torch.nn as nn\n",
        "import torch.nn.functional as F\n",
        "import torch.optim as optim\n",
        "import torchvision\n",
        "import torchvision.transforms as transforms\n",
        "from torch.autograd import Variable\n",
        "import numpy as np"
      ],
      "execution_count": 27,
      "outputs": []
    },
    {
      "cell_type": "code",
      "metadata": {
        "id": "VozvoFF6gXDB"
      },
      "source": [
        "# Preparing data\n",
        "from tensorflow.keras.datasets import mnist\n",
        "(x_train, y_train), (x_test, y_test) = mnist.load_data()\n",
        "# Change the form to float32\n",
        "x_train, x_test = np.array(x_train, np.float32), np.array(x_test, np.float32)\n",
        "# Standart images from [0, 255] to [0,1]\n",
        "x_train, x_test = x_train / 255., x_test / 255.\n",
        "x_train, x_test, y_train, y_test = torch.from_numpy(x_train), torch.from_numpy(x_test), torch.from_numpy(y_train).type(torch.LongTensor), torch.from_numpy(y_test).type(torch.LongTensor)"
      ],
      "execution_count": 28,
      "outputs": []
    },
    {
      "cell_type": "code",
      "metadata": {
        "id": "2l0-L8j1pTAo"
      },
      "source": [
        "# MNIST dataset parameters.\n",
        "num_classes = 10 # total classes (0-9 digits).\n",
        "num_features = 784 # data features (img shape: 28*28).\n",
        "\n",
        "# Network parameters.\n",
        "n_hidden_1 = 128 # 1st layer number of neurons.\n",
        "n_hidden_2 = 256 # 2nd layer number of neurons."
      ],
      "execution_count": 29,
      "outputs": []
    },
    {
      "cell_type": "code",
      "metadata": {
        "id": "DmRW7160DhZ5"
      },
      "source": [
        "batch_size = 16"
      ],
      "execution_count": 30,
      "outputs": []
    },
    {
      "cell_type": "code",
      "metadata": {
        "id": "jlCutM-HgnGm"
      },
      "source": [
        "trainloader = []\n",
        "for (i,j) in zip(x_train, y_train):\n",
        "    trainloader.append([i,j])\n",
        "trainloader = torch.utils.data.DataLoader(trainloader, shuffle=True, batch_size=batch_size)\n",
        "\n",
        "testloader = []\n",
        "for (i,j) in zip(x_test, y_test):\n",
        "    testloader.append([i,j])\n",
        "testloader = torch.utils.data.DataLoader(testloader, shuffle=True, batch_size=batch_size)"
      ],
      "execution_count": 31,
      "outputs": []
    },
    {
      "cell_type": "markdown",
      "metadata": {
        "id": "2ozBMqxygTt3"
      },
      "source": [
        "## Hiển thị một vài ví dụ"
      ]
    },
    {
      "cell_type": "code",
      "metadata": {
        "id": "OKzi3NK4INqd",
        "colab": {
          "base_uri": "https://localhost:8080/",
          "height": 261
        },
        "outputId": "01804325-8c5d-48cf-e4ec-4f6fdac4d8b2"
      },
      "source": [
        "import matplotlib.pyplot as plt\n",
        "%matplotlib inline\n",
        "\n",
        "dataiter = iter(trainloader)\n",
        "images, labels = next(dataiter)\n",
        "images = images.numpy()\n",
        "\n",
        "# hiển thị dữ liệu theo từng batch và nhãn tương ứng\n",
        "fig = plt.figure(figsize=(25, 4))\n",
        "for idx in np.arange(batch_size):\n",
        "    ax = fig.add_subplot(2, int(batch_size / 2), idx + 1, xticks=[], yticks=[])\n",
        "    ax.imshow(np.squeeze(images[idx]), cmap='gray')\n",
        "    ax.set_title(str(labels[idx].item()))"
      ],
      "execution_count": 32,
      "outputs": [
        {
          "output_type": "display_data",
          "data": {
            "text/plain": [
              "<Figure size 2500x400 with 16 Axes>"
            ],
            "image/png": "[encoded data removed]"
          },
          "metadata": {}
        }
      ]
    },
    {
      "cell_type": "code",
      "metadata": {
        "id": "Rql7CBYODhZ6",
        "colab": {
          "base_uri": "https://localhost:8080/"
        },
        "outputId": "fc50ccf6-4fd2-4dac-bf19-0b9101f336bc"
      },
      "source": [
        "import torch.nn as nn\n",
        "import torch.nn.functional as F\n",
        "\n",
        "## định nghĩa mạng\n",
        "class MLPModel(nn.Module):\n",
        "    def __init__(self):\n",
        "        super(MLPModel, self).__init__()\n",
        "        self.fc1 = nn.Linear(num_features, n_hidden_1)\n",
        "        # linear layer (n_hidden -> output)\n",
        "        self.fc2 = nn.Linear(n_hidden_1, n_hidden_2)\n",
        "        self.fc3 = nn.Linear(n_hidden_2, num_classes)\n",
        "\n",
        "    def forward(self, x):\n",
        "        # chuyển từ định dạng ma trận thành vector\n",
        "        x = x.view(-1, 28 * 28)\n",
        "        # add hidden layer, with relu activation function\n",
        "        x = F.relu(self.fc1(x))\n",
        "        x = F.relu(self.fc2(x))\n",
        "        x = self.fc3(x)\n",
        "        return x\n",
        "\n",
        "# initialize the NN\n",
        "model = MLPModel()\n",
        "print(model)"
      ],
      "execution_count": 33,
      "outputs": [
        {
          "output_type": "stream",
          "name": "stdout",
          "text": [
            "MLPModel(\n",
            "  (fc1): Linear(in_features=784, out_features=128, bias=True)\n",
            "  (fc2): Linear(in_features=128, out_features=256, bias=True)\n",
            "  (fc3): Linear(in_features=256, out_features=10, bias=True)\n",
            ")\n"
          ]
        }
      ]
    },
    {
      "cell_type": "code",
      "metadata": {
        "id": "hCTP3kWMng7e"
      },
      "source": [
        "import torch.optim as optim\n",
        "# trong hàm loss cross entropy đã áp dụng hàm soft max cho vector đầu ra\n",
        "criterion = nn.CrossEntropyLoss()\n",
        "optimizer = optim.SGD(model.parameters(), lr=0.01)"
      ],
      "execution_count": 34,
      "outputs": []
    },
    {
      "cell_type": "code",
      "metadata": {
        "id": "F08Eg4vfmtOQ"
      },
      "source": [
        "def accuracy():\n",
        "    correct = 0\n",
        "    total = 0\n",
        "    # since we're not training, we don't need to calculate the gradients for our outputs\n",
        "    with torch.no_grad():\n",
        "        for data in testloader:\n",
        "            images, labels = data\n",
        "            # calculate outputs by running images through the network\n",
        "            outputs = model(images)\n",
        "            # the class with the highest energy is what we choose as prediction\n",
        "            _, predicted = torch.max(outputs.data, 1)\n",
        "            total += labels.size(0)\n",
        "            correct += (predicted == labels).sum().item()\n",
        "\n",
        "    return correct/total"
      ],
      "execution_count": 35,
      "outputs": []
    },
    {
      "cell_type": "code",
      "metadata": {
        "id": "NDl_S1CynsUR",
        "colab": {
          "base_uri": "https://localhost:8080/"
        },
        "outputId": "d63866f3-dfdc-4b98-eb75-5df299b38a5b"
      },
      "source": [
        "losses = []\n",
        "for epoch in range(100):  # loop over the dataset multiple times\n",
        "\n",
        "    running_loss = 0.0\n",
        "    for i, data in enumerate(trainloader, 0):\n",
        "        # get the inputs; data is a list of [inputs, labels]\n",
        "        inputs, labels = data\n",
        "\n",
        "        # zero the parameter gradients\n",
        "        optimizer.zero_grad()\n",
        "\n",
        "        # forward + backward + optimize\n",
        "        outputs = model(inputs)\n",
        "        loss = criterion(outputs, labels)\n",
        "        loss.backward()\n",
        "        optimizer.step()\n",
        "\n",
        "        # print statistics\n",
        "        running_loss += loss.item()\n",
        "    losses.append(running_loss)\n",
        "    if epoch % 10 == 9:\n",
        "        print('Iteration: %d, accuracy: %.3f' %(epoch + 1, accuracy()))\n",
        "\n",
        "print('Finished Training')"
      ],
      "execution_count": 36,
      "outputs": [
        {
          "output_type": "stream",
          "name": "stdout",
          "text": [
            "Iteration: 10, accuracy: 0.973\n",
            "Iteration: 20, accuracy: 0.978\n",
            "Iteration: 30, accuracy: 0.977\n",
            "Iteration: 40, accuracy: 0.979\n",
            "Iteration: 50, accuracy: 0.979\n",
            "Iteration: 60, accuracy: 0.979\n",
            "Iteration: 70, accuracy: 0.980\n",
            "Iteration: 80, accuracy: 0.980\n",
            "Iteration: 90, accuracy: 0.980\n",
            "Iteration: 100, accuracy: 0.980\n",
            "Finished Training\n"
          ]
        }
      ]
    },
    {
      "cell_type": "code",
      "metadata": {
        "colab": {
          "base_uri": "https://localhost:8080/",
          "height": 430
        },
        "id": "wULStpofn6KQ",
        "outputId": "d8ff24b1-91c5-46e3-f80a-f94974e4de18"
      },
      "source": [
        "# Biểu đồ biểu diễn độ biến thiên của hàm mất mát qua các vòng lặp\n",
        "plt.plot([i for i in range(len(losses))], losses, label='Loss line')\n",
        "# plt.plot(X, np.array(W * X + b), label='Fitted line')\n",
        "plt.legend()\n",
        "plt.show()"
      ],
      "execution_count": 37,
      "outputs": [
        {
          "output_type": "display_data",
          "data": {
            "text/plain": [
              "<Figure size 640x480 with 1 Axes>"
            ],
            "image/png": "[encoded data removed]"
          },
          "metadata": {}
        }
      ]
    },
    {
      "cell_type": "markdown",
      "metadata": {
        "id": "r9TNrG3r0OYV"
      },
      "source": [
        "## Bài tập\n",
        "\n",
        "*   Tiến hành huấn luyện mô hình với số lượng epoch lần lượt là 50, 100, 150.Rút ra nhận xét.\n",
        "\n"
      ]
    },
    {
      "cell_type": "code",
      "source": [
        "losses = []\n",
        "for epoch in range(50):\n",
        "\n",
        "    running_loss = 0.0\n",
        "    for i, data in enumerate(trainloader, 0):\n",
        "        # get the inputs; data is a list of [inputs, labels]\n",
        "        inputs, labels = data\n",
        "\n",
        "        # zero the parameter gradients\n",
        "        optimizer.zero_grad()\n",
        "\n",
        "        # forward + backward + optimize\n",
        "        outputs = model(inputs)\n",
        "        loss = criterion(outputs, labels)\n",
        "        loss.backward()\n",
        "        optimizer.step()\n",
        "\n",
        "        # print statistics\n",
        "        running_loss += loss.item()\n",
        "    losses.append(running_loss)\n",
        "    if epoch % 10 == 9:\n",
        "        print('Iteration: %d, accuracy: %.3f' %(epoch + 1, accuracy()))\n",
        "\n",
        "print('Finished Training')"
      ],
      "metadata": {
        "colab": {
          "base_uri": "https://localhost:8080/"
        },
        "id": "HKRG8JDxWBnE",
        "outputId": "f057087b-9c9c-4237-e6dc-79f6d5ee27ec"
      },
      "execution_count": 38,
      "outputs": [
        {
          "output_type": "stream",
          "name": "stdout",
          "text": [
            "Iteration: 10, accuracy: 0.980\n",
            "Iteration: 20, accuracy: 0.980\n",
            "Iteration: 30, accuracy: 0.980\n",
            "Iteration: 40, accuracy: 0.980\n",
            "Iteration: 50, accuracy: 0.980\n",
            "Finished Training\n"
          ]
        }
      ]
    },
    {
      "cell_type": "code",
      "source": [
        "losses = []\n",
        "for epoch in range(100):  # loop over the dataset multiple times\n",
        "\n",
        "    running_loss = 0.0\n",
        "    for i, data in enumerate(trainloader, 0):\n",
        "        # get the inputs; data is a list of [inputs, labels]\n",
        "        inputs, labels = data\n",
        "\n",
        "        # zero the parameter gradients\n",
        "        optimizer.zero_grad()\n",
        "\n",
        "        # forward + backward + optimize\n",
        "        outputs = model(inputs)\n",
        "        loss = criterion(outputs, labels)\n",
        "        loss.backward()\n",
        "        optimizer.step()\n",
        "\n",
        "        # print statistics\n",
        "        running_loss += loss.item()\n",
        "    losses.append(running_loss)\n",
        "    if epoch % 10 == 9:\n",
        "        print('Iteration: %d, accuracy: %.3f' %(epoch + 1, accuracy()))\n",
        "\n",
        "print('Finished Training')"
      ],
      "metadata": {
        "colab": {
          "base_uri": "https://localhost:8080/"
        },
        "id": "FopTNMZiWvVC",
        "outputId": "5615d456-7643-4075-c471-7f1343b53f90"
      },
      "execution_count": 39,
      "outputs": [
        {
          "output_type": "stream",
          "name": "stdout",
          "text": [
            "Iteration: 10, accuracy: 0.980\n",
            "Iteration: 20, accuracy: 0.980\n",
            "Iteration: 30, accuracy: 0.980\n",
            "Iteration: 40, accuracy: 0.980\n",
            "Iteration: 50, accuracy: 0.980\n",
            "Iteration: 60, accuracy: 0.980\n",
            "Iteration: 70, accuracy: 0.980\n",
            "Iteration: 80, accuracy: 0.980\n",
            "Iteration: 90, accuracy: 0.980\n",
            "Iteration: 100, accuracy: 0.980\n",
            "Finished Training\n"
          ]
        }
      ]
    },
    {
      "cell_type": "markdown",
      "metadata": {
        "id": "ByD_DioQ0n58"
      },
      "source": [
        "\n",
        "\n",
        "*   Hiển thị một số kết quả\n",
        "\n"
      ]
    },
    {
      "cell_type": "code",
      "metadata": {
        "id": "EPVrejvmDhZ_",
        "colab": {
          "base_uri": "https://localhost:8080/",
          "height": 261
        },
        "outputId": "425c7e69-9bfe-4ed6-d4f8-a5efe566c8e8"
      },
      "source": [
        "# obtain one batch of test images\n",
        "dataiter = iter(testloader)\n",
        "(images, labels) = next(dataiter)\n",
        "\n",
        "# get sample outputs\n",
        "output = model(images)\n",
        "# convert output probabilities to predicted class\n",
        "_, preds = torch.max(output, 1)\n",
        "# prep images for display\n",
        "images = images.numpy()\n",
        "\n",
        "# plot the images in the batch, along with predicted and true labels\n",
        "fig = plt.figure(figsize=(25, 4))\n",
        "for idx in np.arange(batch_size):\n",
        "    ax = fig.add_subplot(2, int(batch_size/2), idx+1, xticks=[], yticks=[])\n",
        "    ax.imshow(np.squeeze(images[idx]), cmap='gray')\n",
        "    ax.set_title(\"{} ({})\".format(str(preds[idx].item()), str(labels[idx].item())),\n",
        "                 color=(\"green\" if preds[idx]==labels[idx] else \"red\"))"
      ],
      "execution_count": 40,
      "outputs": [
        {
          "output_type": "display_data",
          "data": {
            "text/plain": [
              "<Figure size 2500x400 with 16 Axes>"
            ],
            "image/png": "[encoded data removed]"
          },
          "metadata": {}
        }
      ]
    },
    {
      "cell_type": "code",
      "metadata": {
        "id": "M64NL8UXhe00"
      },
      "source": [],
      "execution_count": 40,
      "outputs": []
    },
    {
      "cell_type": "markdown",
      "metadata": {
        "id": "LZnmFyT3yvBd"
      },
      "source": [
        "## Bài tập\n",
        "\n",
        "*   Thiết lập thêm 3 mạng nơ ron với số tầng ẩn lần lượt là 3,5 (số lượng nơ ron của các tầng tùy ý). Với mỗi mạng mới được sinh ra, áp dụng learning-rate lần lượt bằng 0.1, 0,05, 0.001 để huấn luyện. Huấn luyện qua khoảng 100 epoch.\n",
        "*   Chia tập train hiện có thành 2 phần. **85%** dữ liệu làm tập **train**, **15%** còn lại làm tập **dev**. Huấn luyện các mô hình tạo ra ở bước trên với tập **train** mới, sau đó kiểm thử trên tập **dev**.\n",
        "* Dùng các model kiểm thử trên tập **test**. So sánh model cho kết quả tốt nhất khi kiểm thử trên 2 tập này và rút ra nhận xét về vai trò của tập **dev**\n",
        "\n"
      ]
    },
    {
      "cell_type": "code",
      "source": [
        "# Chuẩn bị dữ liệu\n",
        "from tensorflow.keras.datasets import mnist\n",
        "(x_train, y_train), (x_test, y_test) = mnist.load_data()\n",
        "# Chuyển đổi sang định dạng float32.\n",
        "x_train, x_test = np.array(x_train, np.float32), np.array(x_test, np.float32)\n",
        "# Chuẩn hóa ảnh từ from [0, 255] to [0, 1].\n",
        "x_train, x_test = x_train / 255, x_test / 255\n",
        "x_train, x_test, y_train, y_test = torch.from_numpy(x_train), torch.from_numpy(x_test), torch.from_numpy(y_train).type(torch.LongTensor), torch.from_numpy(y_test).type(torch.LongTensor)"
      ],
      "metadata": {
        "id": "_iMA3HNFYN8u"
      },
      "execution_count": 41,
      "outputs": []
    },
    {
      "cell_type": "code",
      "source": [
        "# Chia tập train thành 2 phần: 85% cho train, 15% cho dev\n",
        "from sklearn.model_selection import train_test_split\n",
        "x_trainn, x_dev, y_trainn, y_dev = train_test_split(x_train, y_train, test_size=0.15, random_state=42)"
      ],
      "metadata": {
        "id": "yvWf1O63mgho"
      },
      "execution_count": 42,
      "outputs": []
    },
    {
      "cell_type": "code",
      "source": [
        "# MNIST dataset parameters.\n",
        "num_classes = 10 # total classes (0-9 digits).\n",
        "num_features = 784 # data features (img shape: 28*28).\n",
        "\n",
        "# Network parameters.\n",
        "n_hidden_1 = 128 # 1st layer number of neurons.\n",
        "n_hidden_2 = 256 # 2nd layer number of neurons.\n",
        "n_hidden_3 = 512 # 2nd layer number of neurons.\n",
        "n_hidden_4 = 1024 # 2nd layer number of neurons.\n",
        "n_hidden_5 = 2048 # 2nd layer number of neurons."
      ],
      "metadata": {
        "id": "vlAXJzzCYPJx"
      },
      "execution_count": 43,
      "outputs": []
    },
    {
      "cell_type": "code",
      "source": [
        "trainloader = []\n",
        "for (i,j) in zip(x_train, y_train):\n",
        "    trainloader.append([i,j])\n",
        "trainloader = torch.utils.data.DataLoader(trainloader, shuffle=True, batch_size=batch_size)\n",
        "\n",
        "trainnloader = []\n",
        "for (i,j) in zip(x_trainn, y_trainn):\n",
        "    trainnloader.append([i,j])\n",
        "trainnloader = torch.utils.data.DataLoader(trainnloader, shuffle=True, batch_size=batch_size)\n",
        "\n",
        "devloader = []\n",
        "for (i,j) in zip(x_dev, y_dev):\n",
        "    devloader.append([i,j])\n",
        "devloader = torch.utils.data.DataLoader(devloader, shuffle=True, batch_size= batch_size)\n",
        "\n",
        "testloader = []\n",
        "for (i,j) in zip(x_test, y_test):\n",
        "    testloader.append([i,j])\n",
        "testloader = torch.utils.data.DataLoader(testloader, shuffle=True, batch_size=batch_size)"
      ],
      "metadata": {
        "id": "9tqCrrKlYebO"
      },
      "execution_count": 44,
      "outputs": []
    },
    {
      "cell_type": "code",
      "source": [],
      "metadata": {
        "id": "msrxxh6zYVzQ"
      },
      "execution_count": 44,
      "outputs": []
    },
    {
      "cell_type": "code",
      "source": [
        "# Mô hình gồm 3 hidden layer\n",
        "import torch.nn as nn\n",
        "import torch.nn.functional as F\n",
        "\n",
        "## định nghĩa mạng\n",
        "class MLPModel3(nn.Module):\n",
        "    def __init__(self):\n",
        "        super(MLPModel3, self).__init__()\n",
        "        self.fc1 = nn.Linear(num_features, n_hidden_1)\n",
        "        # linear layer (n_hidden -> output)\n",
        "        self.fc2 = nn.Linear(n_hidden_1, n_hidden_2)\n",
        "        self.fc3 = nn.Linear(n_hidden_2, n_hidden_3)\n",
        "        self.fc4 = nn.Linear(n_hidden_3, num_classes)\n",
        "\n",
        "    def forward(self, x):\n",
        "        # chuyển từ định dạng ma trận thành vector\n",
        "        x = x.view(-1, 28 * 28)\n",
        "        # add hidden layer, with relu activation function\n",
        "        x = F.relu(self.fc1(x))\n",
        "        x = F.relu(self.fc2(x))\n",
        "        x = F.relu(self.fc3(x))\n",
        "        x = self.fc4(x)\n",
        "        return x\n",
        "\n",
        "# initialize the NN\n",
        "model_3 = MLPModel3()\n",
        "print(model_3)"
      ],
      "metadata": {
        "colab": {
          "base_uri": "https://localhost:8080/"
        },
        "id": "GIxUgtuaYBWo",
        "outputId": "dc0280b3-35a7-408e-a981-802aec849a18"
      },
      "execution_count": 45,
      "outputs": [
        {
          "output_type": "stream",
          "name": "stdout",
          "text": [
            "MLPModel3(\n",
            "  (fc1): Linear(in_features=784, out_features=128, bias=True)\n",
            "  (fc2): Linear(in_features=128, out_features=256, bias=True)\n",
            "  (fc3): Linear(in_features=256, out_features=512, bias=True)\n",
            "  (fc4): Linear(in_features=512, out_features=10, bias=True)\n",
            ")\n"
          ]
        }
      ]
    },
    {
      "cell_type": "code",
      "source": [
        "def accuracy_3():\n",
        "    correct = 0\n",
        "    total = 0\n",
        "    # since we're not training, we don't need to calculate the gradients for our outputs\n",
        "    with torch.no_grad():\n",
        "        for data in testloader:\n",
        "            images, labels = data\n",
        "            # calculate outputs by running images through the network\n",
        "            outputs = model_3(images)\n",
        "            # the class with the highest energy is what we choose as prediction\n",
        "            _, predicted = torch.max(outputs.data, 1)\n",
        "            total += labels.size(0)\n",
        "            correct += (predicted == labels).sum().item()\n",
        "\n",
        "    return correct/total"
      ],
      "metadata": {
        "id": "BV6Sx4EGYrZs"
      },
      "execution_count": 46,
      "outputs": []
    },
    {
      "cell_type": "code",
      "source": [
        "import torch.optim as optim\n",
        "# trong hàm loss cross entropy đã áp dụng hàm soft max cho vector đầu ra\n",
        "criterion = nn.CrossEntropyLoss()\n",
        "optimizer_0 = optim.SGD(model_3.parameters(), lr=0.1)\n",
        "optimizer_1 = optim.SGD(model_3.parameters(), lr=0.05)\n",
        "optimizer_2 = optim.SGD(model_3.parameters(), lr=0.001)\n"
      ],
      "metadata": {
        "id": "pqARV1PsbH76"
      },
      "execution_count": 55,
      "outputs": []
    },
    {
      "cell_type": "code",
      "source": [
        "losses = []\n",
        "\n",
        "# Train với ba learning rate khác nhau, mỗi cái 100 lần\n",
        "for optimizer in [optimizer_0, optimizer_1, optimizer_2]:\n",
        "  for epoch in range(50):  # loop over the dataset multiple times\n",
        "\n",
        "    running_loss = 0.0\n",
        "    for i, data in enumerate(trainloader, 0):\n",
        "        # get the inputs; data is a list of [inputs, labels]\n",
        "        inputs, labels = data\n",
        "\n",
        "        # zero the parameter gradients\n",
        "        optimizer.zero_grad()\n",
        "\n",
        "        # forward + backward + optimize\n",
        "        outputs = model_3(inputs)\n",
        "        loss = criterion(outputs, labels)\n",
        "        loss.backward()\n",
        "        optimizer.step()\n",
        "\n",
        "        # print statistics\n",
        "        running_loss += loss.item()\n",
        "    losses.append(running_loss)\n",
        "    if epoch % 10 == 9:\n",
        "        # Giờ hiện ra số accu của mỗi learning rate khác nhau tại các epoch\n",
        "        print('Iteration: %d, accuracy for learning rate %s: %.3f' %(epoch + 1,optimizer.param_groups[0]['lr'], accuracy_3()))\n",
        "  print('Finished Training')"
      ],
      "metadata": {
        "colab": {
          "base_uri": "https://localhost:8080/"
        },
        "id": "Kiz9akCdb2FQ",
        "outputId": "a1816c00-2082-4b5c-97e7-ffe10a6bc8d8"
      },
      "execution_count": 56,
      "outputs": [
        {
          "output_type": "stream",
          "name": "stdout",
          "text": [
            "Iteration: 10, accuracy for learning rate 0.1: 0.982\n",
            "Iteration: 20, accuracy for learning rate 0.1: 0.983\n",
            "Iteration: 30, accuracy for learning rate 0.1: 0.986\n",
            "Iteration: 40, accuracy for learning rate 0.1: 0.986\n",
            "Iteration: 50, accuracy for learning rate 0.1: 0.986\n",
            "Finished Training\n",
            "Iteration: 10, accuracy for learning rate 0.05: 0.986\n",
            "Iteration: 20, accuracy for learning rate 0.05: 0.986\n",
            "Iteration: 30, accuracy for learning rate 0.05: 0.986\n",
            "Iteration: 40, accuracy for learning rate 0.05: 0.986\n",
            "Iteration: 50, accuracy for learning rate 0.05: 0.986\n",
            "Finished Training\n",
            "Iteration: 10, accuracy for learning rate 0.001: 0.986\n",
            "Iteration: 20, accuracy for learning rate 0.001: 0.986\n",
            "Iteration: 30, accuracy for learning rate 0.001: 0.986\n",
            "Iteration: 40, accuracy for learning rate 0.001: 0.986\n",
            "Iteration: 50, accuracy for learning rate 0.001: 0.986\n",
            "Finished Training\n"
          ]
        }
      ]
    },
    {
      "cell_type": "code",
      "source": [],
      "metadata": {
        "id": "hJ5sGRVvnzqW"
      },
      "execution_count": 48,
      "outputs": []
    },
    {
      "cell_type": "code",
      "source": [
        "# Mô hình gồm 5 hidden layer\n",
        "import torch.nn as nn\n",
        "import torch.nn.functional as F\n",
        "\n",
        "## định nghĩa mạng\n",
        "class MLP5Model(nn.Module):\n",
        "    def __init__(self):\n",
        "        super(MLP5Model, self).__init__()\n",
        "        self.fc1 = nn.Linear(num_features, n_hidden_1)\n",
        "        # linear layer (n_hidden -> output)\n",
        "        self.fc2 = nn.Linear(n_hidden_1, n_hidden_2)\n",
        "        self.fc3 = nn.Linear(n_hidden_2, n_hidden_3)\n",
        "        self.fc4 = nn.Linear(n_hidden_3, n_hidden_4)\n",
        "        self.fc5 = nn.Linear(n_hidden_4, n_hidden_5)\n",
        "        self.fc6 = nn.Linear(n_hidden_5, num_classes)\n",
        "\n",
        "    def forward(self, x):\n",
        "        # chuyển từ định dạng ma trận thành vector\n",
        "        x = x.view(-1, 28 * 28)\n",
        "        # add hidden layer, with relu activation function\n",
        "        x = F.relu(self.fc1(x))\n",
        "        x = F.relu(self.fc2(x))\n",
        "        x = F.relu(self.fc3(x))\n",
        "        x = F.relu(self.fc4(x))\n",
        "        x = F.relu(self.fc5(x))\n",
        "        x = self.fc6(x)\n",
        "        return x\n",
        "\n",
        "# initialize the NN\n",
        "model_5 = MLP5Model()\n",
        "print(model_5)"
      ],
      "metadata": {
        "colab": {
          "base_uri": "https://localhost:8080/"
        },
        "id": "JX5wqHPbcwz9",
        "outputId": "0640a9a9-a5e7-4e32-a8a2-cbf5448c4310"
      },
      "execution_count": 57,
      "outputs": [
        {
          "output_type": "stream",
          "name": "stdout",
          "text": [
            "MLP5Model(\n",
            "  (fc1): Linear(in_features=784, out_features=128, bias=True)\n",
            "  (fc2): Linear(in_features=128, out_features=256, bias=True)\n",
            "  (fc3): Linear(in_features=256, out_features=512, bias=True)\n",
            "  (fc4): Linear(in_features=512, out_features=1024, bias=True)\n",
            "  (fc5): Linear(in_features=1024, out_features=2048, bias=True)\n",
            "  (fc6): Linear(in_features=2048, out_features=10, bias=True)\n",
            ")\n"
          ]
        }
      ]
    },
    {
      "cell_type": "code",
      "source": [
        "def accuracy_5():\n",
        "    correct = 0\n",
        "    total = 0\n",
        "    # since we're not training, we don't need to calculate the gradients for our outputs\n",
        "    with torch.no_grad():\n",
        "        for data in testloader:\n",
        "            images, labels = data\n",
        "            # calculate outputs by running images through the network\n",
        "            outputs = model_5(images)\n",
        "            # the class with the highest energy is what we choose as prediction\n",
        "            _, predicted = torch.max(outputs.data, 1)\n",
        "            total += labels.size(0)\n",
        "            correct += (predicted == labels).sum().item()\n",
        "\n",
        "    return correct/total"
      ],
      "metadata": {
        "id": "wtIS-7Syct4g"
      },
      "execution_count": 58,
      "outputs": []
    },
    {
      "cell_type": "code",
      "source": [
        "import torch.optim as optim\n",
        "# trong hàm loss cross entropy đã áp dụng hàm soft max cho vector đầu ra\n",
        "criterion = nn.CrossEntropyLoss()\n",
        "optimizer_0 = optim.SGD(model_5.parameters(), lr=0.1)\n",
        "optimizer_1 = optim.SGD(model_5.parameters(), lr=0.05)\n",
        "optimizer_2 = optim.SGD(model_5.parameters(), lr=0.001)"
      ],
      "metadata": {
        "id": "ZUhORdpGVXV_"
      },
      "execution_count": 59,
      "outputs": []
    },
    {
      "cell_type": "code",
      "source": [
        "losses = []\n",
        "\n",
        "# Train với ba learning rate khác nhau, mỗi cái 30 lần\n",
        "for optimizer in [optimizer_0, optimizer_1, optimizer_2]:\n",
        "  for epoch in range(10):  # loop over the dataset multiple times\n",
        "\n",
        "    running_loss = 0.0\n",
        "    for i, data in enumerate(trainloader, 0):\n",
        "        # get the inputs; data is a list of [inputs, labels]\n",
        "        inputs, labels = data\n",
        "\n",
        "        # zero the parameter gradients\n",
        "        optimizer.zero_grad()\n",
        "\n",
        "        # forward + backward + optimize\n",
        "        outputs = model_5(inputs)\n",
        "        loss = criterion(outputs, labels)\n",
        "        loss.backward()\n",
        "        optimizer.step()\n",
        "\n",
        "        # print statistics\n",
        "        running_loss += loss.item()\n",
        "    losses.append(running_loss)\n",
        "    if epoch % 10 == 9:\n",
        "        print('Iteration: %d, accuracy for learning rate %s: %.3f' %(epoch + 1,optimizer.param_groups[0]['lr'], accuracy_5()))\n",
        "\n",
        "  print('Finished Training')"
      ],
      "metadata": {
        "colab": {
          "base_uri": "https://localhost:8080/"
        },
        "id": "NxahC5Byhea_",
        "outputId": "e9878d4a-f1a3-4370-cae5-8e829b307f04"
      },
      "execution_count": 63,
      "outputs": [
        {
          "output_type": "stream",
          "name": "stdout",
          "text": [
            "Iteration: 10, accuracy for learning rate 0.1: 0.982\n",
            "Finished Training\n",
            "Iteration: 10, accuracy for learning rate 0.05: 0.985\n",
            "Finished Training\n",
            "Iteration: 10, accuracy for learning rate 0.001: 0.985\n",
            "Finished Training\n"
          ]
        }
      ]
    },
    {
      "cell_type": "code",
      "source": [
        "# Chạy trên tập trainn (train mới và tập dev)\n",
        "\n",
        "# Bước 1: Tạo accu khi kiểm thử trên tập dev\n",
        "\n",
        "def accuracy_dev():\n",
        "    correct = 0\n",
        "    total = 0\n",
        "    # since we're not training, we don't need to calculate the gradients for our outputs\n",
        "    with torch.no_grad():\n",
        "        for data in devloader:\n",
        "            images, labels = data\n",
        "            # calculate outputs by running images through the network\n",
        "            outputs = model_5(images)\n",
        "            # the class with the highest energy is what we choose as prediction\n",
        "            _, predicted = torch.max(outputs.data, 1)\n",
        "            total += labels.size(0)\n",
        "            correct += (predicted == labels).sum().item()\n",
        "\n",
        "    return correct/total\n",
        "\n",
        "\n",
        "# Bước 2: Huấn luyện trên tập train và kiểm thử trên tập dev\n",
        "# Ở đây, ta chọn mô hình có 5 hidden layer, learning rate = 0.05\n",
        "# Huấn luyện và kiểm thử\n",
        "losses = []\n",
        "for epoch in range(5):\n",
        "    running_loss = 0.0\n",
        "    for i, data in enumerate(trainnloader, 0):  # Sử dụng trainnloader để load dữ liệu train\n",
        "        # Lấy inputs và labels từ batch\n",
        "        inputs, labels = data\n",
        "\n",
        "        # Reset lại gradient\n",
        "        optimizer_1.zero_grad()\n",
        "\n",
        "        # Forward pass\n",
        "        outputs = model_5(inputs)\n",
        "        loss = criterion(outputs, labels)\n",
        "        loss.backward()\n",
        "\n",
        "        # Cập nhật weights\n",
        "        optimizer_1.step()\n",
        "\n",
        "        # Lưu lại loss\n",
        "        running_loss += loss.item()\n",
        "        losses.append(running_loss)\n",
        "\n",
        "    # Kiểm thử trên tập validation sau mỗi epoch\n",
        "    if epoch % 10 == 9:  # Bạn có thể điều chỉnh tần suất in ra kết quả\n",
        "        print('Iteration: %d, accuracy for learning rate %s: %.3f' %\n",
        "              (epoch + 1, optimizer_1.param_groups[0]['lr'], accuracy_dev()))\n",
        "        print('Finished Training on Validation Set')\n",
        "\n",
        "    # Sau khi hoàn tất huấn luyện, kiểm thử trên tập test\n",
        "    test_accuracy = accuracy_5()\n",
        "    print(f'Test Accuracy at epoch {epoch+1}: {test_accuracy:.3f}')\n",
        "\n",
        "\n",
        "\n"
      ],
      "metadata": {
        "id": "rvDtSRoVlDy4",
        "colab": {
          "base_uri": "https://localhost:8080/"
        },
        "outputId": "d31c02b3-7168-485d-ab6f-1345544eecda"
      },
      "execution_count": 65,
      "outputs": [
        {
          "output_type": "stream",
          "name": "stdout",
          "text": [
            "Test Accuracy at epoch 1: 0.985\n",
            "Test Accuracy at epoch 2: 0.985\n",
            "Test Accuracy at epoch 3: 0.985\n",
            "Test Accuracy at epoch 4: 0.985\n",
            "Test Accuracy at epoch 5: 0.985\n"
          ]
        }
      ]
    }
  ]
}