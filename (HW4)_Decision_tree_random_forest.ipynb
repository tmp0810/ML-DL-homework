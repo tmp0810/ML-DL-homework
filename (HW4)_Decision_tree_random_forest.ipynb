{
  "cells": [
    {
      "cell_type": "markdown",
      "metadata": {
        "id": "6yVhqqKXSeEO"
      },
      "source": [
        "# Bài tập về nhà Decision Tree, Random Forest\n"
      ]
    },
    {
      "cell_type": "markdown",
      "metadata": {
        "id": "dePo0HgpSeEQ"
      },
      "source": [
        "- Thực hiện các yêu cầu dưới đây với tập dữ liệu Australian credit\n",
        "- Down dữ liệu tại đường link dưới đây và đặt vào folder /data\n",
        "\n",
        "  https://archive.ics.uci.edu/ml/datasets/Statlog+(Australian+Credit+Approval)\n",
        "    "
      ]
    },
    {
      "cell_type": "code",
      "execution_count": null,
      "metadata": {
        "id": "CXdCTLt3SeER"
      },
      "outputs": [],
      "source": [
        "from sklearn.tree import DecisionTreeClassifier\n",
        "from sklearn.ensemble import RandomForestClassifier\n",
        "from sklearn import tree\n",
        "from sklearn.model_selection import train_test_split, GridSearchCV\n",
        "from sklearn.metrics import accuracy_score, classification_report\n",
        "import pandas as pd\n",
        "import numpy as np\n",
        "from sklearn.model_selection import KFold\n",
        "\n"
      ]
    },
    {
      "cell_type": "markdown",
      "metadata": {
        "id": "jCDnjfglSeET"
      },
      "source": [
        "## 1. Tìm hiểu dữ liệu"
      ]
    },
    {
      "cell_type": "code",
      "execution_count": null,
      "metadata": {
        "id": "hvxCe2XDSeET"
      },
      "outputs": [],
      "source": [
        "'''\n",
        "- Tìm hiểu cấu trúc data tại trang web UCI\n",
        "- Down các files, đặt trong folder data/\n",
        "- Chú ý:\n",
        "    - Đọc mô tả dữ liệu trong file 'australian.doc'\n",
        "    - Kiểm tra DecisionTree/RandomForest của Sklearn có hỗ trợ với kiểu dữ liệu được cung cấp không\n",
        "'''\n",
        "data_path = '/content/australian.dat'\n",
        "df = pd.read_csv(data_path, sep=' ', header=None)\n",
        "X = df.iloc[:, :-1]\n",
        "y = df.iloc[:, -1]\n",
        "X_train, X_test, y_train, y_test = train_test_split(X, y, test_size=0.3, random_state=8102005)\n",
        "\n",
        "# Do dữ liệu đa số là dạng chữ nên đa số hệ số tương quan sẽ khá thấp nên không dùng những mô hình tuyến tính\n",
        "# Vậy ta dùng decision tree hoặc random forest\n",
        "# Do dữ liệu này cân bằng nên ta chọn độ đo là accuracy"
      ]
    },
    {
      "cell_type": "markdown",
      "metadata": {
        "id": "4ZDVKyp2SeEU"
      },
      "source": [
        "## 2. Decision Tree"
      ]
    },
    {
      "cell_type": "markdown",
      "metadata": {
        "id": "vJwv5tMuSeEU"
      },
      "source": [
        "### 2.1. Khảo sát các giá trị khác nhau của max_depth"
      ]
    },
    {
      "cell_type": "code",
      "source": [
        "# Cách 1: Sử dụng hold out để khảo sát\n",
        "import numpy as np\n",
        "from sklearn.datasets import load_iris\n",
        "from sklearn.model_selection import train_test_split\n",
        "from sklearn.tree import DecisionTreeClassifier\n",
        "from sklearn.metrics import accuracy_score\n",
        "\n",
        "X_valid, X_testt, y_valid, y_testt = train_test_split(X_test, y_test, test_size=0.5, random_state=42)\n",
        "\n",
        "# 2. Tìm kiếm siêu tham số\n",
        "best_accuracy = 0\n",
        "best_max_depth = None\n",
        "S = [1, 2, 3, 4, 5, 6, 7, 8, 9, 10]\n",
        "\n",
        "for max_depth in S:\n",
        "    # Huấn luyện mô hình với siêu tham số max_depth\n",
        "    model = DecisionTreeClassifier(max_depth=max_depth)\n",
        "    model.fit(X_train, y_train)\n",
        "\n",
        "    # Đánh giá trên tập D_valid\n",
        "    y_valid_pred = model.predict(X_valid)\n",
        "    accuracy = accuracy_score(y_valid, y_valid_pred)\n",
        "\n",
        "    # Lưu lại siêu tham số nếu hiệu suất tốt hơn\n",
        "    if accuracy > best_accuracy:\n",
        "        best_accuracy = accuracy\n",
        "        best_max_depth = max_depth\n",
        "\n",
        "print(f'Best max_depth: {best_max_depth} with accuracy: {best_accuracy}')\n",
        "\n",
        "# 3. Đánh giá trên tập D_test với siêu tham số tốt nhất\n",
        "best_model = DecisionTreeClassifier(max_depth=best_max_depth)\n",
        "best_model.fit(X_train, y_train)\n",
        "y_test_pred = best_model.predict(X_testt)\n",
        "test_accuracy = accuracy_score(y_testt, y_test_pred)\n",
        "\n",
        "print(f'Test accuracy with best max_depth ({best_max_depth}): {test_accuracy}')\n",
        "\n"
      ],
      "metadata": {
        "id": "XYAL7rZHJbjp",
        "colab": {
          "base_uri": "https://localhost:8080/"
        },
        "outputId": "df97a208-11ac-41aa-d40d-50a08c491737"
      },
      "execution_count": null,
      "outputs": [
        {
          "output_type": "stream",
          "name": "stdout",
          "text": [
            "Best max_depth: 4 with accuracy: 0.8543689320388349\n",
            "Test accuracy with best max_depth (4): 0.8942307692307693\n"
          ]
        }
      ]
    },
    {
      "cell_type": "code",
      "execution_count": null,
      "metadata": {
        "colab": {
          "base_uri": "https://localhost:8080/"
        },
        "id": "SPmSja9NSeEU",
        "outputId": "4f131eb8-7361-4d04-e7c3-f12948bda2f6"
      },
      "outputs": [
        {
          "output_type": "stream",
          "name": "stdout",
          "text": [
            "{'max_depth': 4}\n"
          ]
        }
      ],
      "source": [
        "# Cách 2: Dùng GridSearch\n",
        "param_grid = {'max_depth': [4,5, 6, 7, 8]}\n",
        "\n",
        "grid_search = GridSearchCV(DecisionTreeClassifier(), param_grid=param_grid, cv=5, scoring='accuracy')\n",
        "grid_search.fit(X_train, y_train)  # Fit the GridSearchCV object to the training data\n",
        "print(grid_search.best_params_)  # Now you can access the best parameters"
      ]
    },
    {
      "cell_type": "markdown",
      "metadata": {
        "id": "vDr9DRmmSeEV"
      },
      "source": [
        "### 2.2. Tìm kiếm siêu tham số"
      ]
    },
    {
      "cell_type": "code",
      "source": [
        "# Cách 1: Dùng holdout để khảo sát\n",
        "param_candidates = {'max_depth':[5, 6, 7, 8], 'min_samples_split': [2, 3, 4], 'min_samples_leaf':[2, 3, 4]}\n",
        "best_accuracy = 0\n",
        "best_params = {}\n",
        "for max_depth in param_candidates['max_depth']:\n",
        "  for min_samples_split in param_candidates['min_samples_split']:\n",
        "    for min_samples_leaf in param_candidates['min_samples_leaf']:\n",
        "      model = DecisionTreeClassifier(max_depth=max_depth, min_samples_split=min_samples_split, min_samples_leaf=min_samples_leaf)\n",
        "      model.fit(X_train, y_train)\n",
        "      # Đánh giá trên tập D_valid\n",
        "      y_valid_pred = model.predict(X_valid)\n",
        "      accuracy = accuracy_score(y_valid, y_valid_pred)\n",
        "\n",
        "      # Lưu lại siêu tham số nếu hiệu suất tốt hơn\n",
        "      if accuracy > best_accuracy:\n",
        "          best_accuracy = accuracy\n",
        "          best_params = {'max_depth': max_depth, 'min_samples_split': min_samples_split, 'min_samples_leaf': min_samples_leaf}\n",
        "print(f\"Best parameters: {best_params} with validation accuracy: {best_accuracy}\")\n",
        "\n",
        "# 3. Đánh giá trên tập D_test với siêu tham số tốt nhất\n",
        "best_model = DecisionTreeClassifier(**best_params)\n",
        "best_model.fit(X_train, y_train)\n",
        "y_test_pred = best_model.predict(X_test)\n",
        "test_accuracy = accuracy_score(y_test, y_test_pred)\n",
        "\n",
        "print(f\"Test accuracy with best parameters: {test_accuracy}\")\n",
        "\n"
      ],
      "metadata": {
        "id": "OjaTmeowx4pX",
        "colab": {
          "base_uri": "https://localhost:8080/"
        },
        "outputId": "14d1bf21-12c6-491b-ea81-37649e8855ac"
      },
      "execution_count": null,
      "outputs": [
        {
          "output_type": "stream",
          "name": "stdout",
          "text": [
            "Best parameters: {'max_depth': 7, 'min_samples_split': 2, 'min_samples_leaf': 2} with validation accuracy: 0.8640776699029126\n",
            "Test accuracy with best parameters: 0.8309178743961353\n"
          ]
        }
      ]
    },
    {
      "cell_type": "code",
      "execution_count": null,
      "metadata": {
        "colab": {
          "base_uri": "https://localhost:8080/"
        },
        "id": "1cYkAIRKSeEW",
        "outputId": "946f295e-ba69-4cf0-da92-dda1ecf6d3a8"
      },
      "outputs": [
        {
          "output_type": "stream",
          "name": "stdout",
          "text": [
            "Fitting 5 folds for each of 108 candidates, totalling 540 fits\n",
            "Best parameters found: {'max_depth': 5, 'max_features': 'log2', 'min_samples_leaf': 2, 'min_samples_split': 2}\n",
            "Best cross-validation accuracy: 0.845978705978706\n",
            "Test accuracy with best parameters: 0.782608695652174\n"
          ]
        }
      ],
      "source": [
        "# Cách 2: Dùng GridSearch\n",
        "param_grid = {\n",
        "    'max_depth': [3, 5, 7, 10],\n",
        "    'min_samples_split': [2, 5, 10],\n",
        "    'min_samples_leaf': [1, 2, 4],\n",
        "    'max_features': [None, 'sqrt', 'log2']\n",
        "}\n",
        "\n",
        "# Khởi tạo GridSearchCV\n",
        "grid_search = GridSearchCV(DecisionTreeClassifier(), param_grid=param_grid, cv=5, scoring='accuracy', n_jobs=-1, verbose=1)\n",
        "\n",
        "# Huấn luyện mô hình\n",
        "grid_search.fit(X_train, y_train)\n",
        "\n",
        "# Kết quả tốt nhất\n",
        "print(f\"Best parameters found: {grid_search.best_params_}\")\n",
        "print(f\"Best cross-validation accuracy: {grid_search.best_score_}\")\n",
        "\n",
        "# Đánh giá mô hình trên tập kiểm tra\n",
        "best_dt = grid_search.best_estimator_\n",
        "accuracy = best_dt.score(X_test, y_test)\n",
        "print(f\"Test accuracy with best parameters: {accuracy}\")"
      ]
    },
    {
      "cell_type": "markdown",
      "metadata": {
        "id": "f8vAj-T0SeEW"
      },
      "source": [
        "## 3. Random Forest"
      ]
    },
    {
      "cell_type": "markdown",
      "metadata": {
        "id": "dn1fpY78SeEX"
      },
      "source": [
        "### 3.1 Khảo sát các giá trị khác nhau của n_estimators"
      ]
    },
    {
      "cell_type": "code",
      "source": [
        "# Cách 1: Dùng holdout để khảo sát\n",
        "best_accuracy = 0\n",
        "best_n_estimators = None\n",
        "n_estimators_candidates = [10, 20, 30, 40, 50]\n",
        "for n_estimators in n_estimators_candidates:\n",
        "  model = RandomForestClassifier(n_estimators=n_estimators, random_state=42)\n",
        "  model.fit(X_train, y_train)\n",
        "  # Đánh giá trên tập D_valid\n",
        "  y_valid_pred = model.predict(X_valid)\n",
        "  accuracy = accuracy_score(y_valid, y_valid_pred)\n",
        "\n",
        "  # Lưu lại siêu tham số nếu hiệu suất tốt hơn\n",
        "  if accuracy > best_accuracy:\n",
        "      best_accuracy = accuracy\n",
        "      best_n_estimators = n_estimators\n",
        "\n",
        "print(f'Best n_estimators: {best_n_estimators} with accuracy: {best_accuracy}')\n",
        "\n",
        "# 3. Đánh giá trên tập D_test với siêu tham số tốt nhất\n",
        "best_model = RandomForestClassifier(n_estimators=best_n_estimators, random_state=42)\n",
        "best_model.fit(X_train, y_train)\n",
        "y_test_pred = best_model.predict(X_testt)\n",
        "test_accuracy = accuracy_score(y_testt, y_test_pred)\n",
        "\n",
        "print(f'Test accuracy with best n_estimators ({best_n_estimators}): {test_accuracy}')\n",
        "print(f'Best n_estimators: {best_n_estimators} with accuracy: {best_accuracy}')\n"
      ],
      "metadata": {
        "id": "rJA5nGe8x5iN",
        "colab": {
          "base_uri": "https://localhost:8080/"
        },
        "outputId": "dbdecccf-ce5b-40ac-f636-60c639049572"
      },
      "execution_count": null,
      "outputs": [
        {
          "output_type": "stream",
          "name": "stdout",
          "text": [
            "Best n_estimators: 10 with accuracy: 0.8446601941747572\n",
            "Test accuracy with best n_estimators (10): 0.875\n",
            "Best n_estimators: 10 with accuracy: 0.8446601941747572\n"
          ]
        }
      ]
    },
    {
      "cell_type": "code",
      "execution_count": null,
      "metadata": {
        "colab": {
          "base_uri": "https://localhost:8080/"
        },
        "id": "waKOHfmOSeEX",
        "outputId": "b2c22cc8-7d37-4c57-b8d0-4d47acc81d4e"
      },
      "outputs": [
        {
          "output_type": "stream",
          "name": "stdout",
          "text": [
            "{'n_estimators': 20}\n"
          ]
        }
      ],
      "source": [
        "# Cách 2: Dùng GridSearch\n",
        "\n",
        "param_grid = {'n_estimators': [10, 20, 30, 40, 50]}\n",
        "\n",
        "grid_search = GridSearchCV(RandomForestClassifier(), param_grid=param_grid, cv=5, scoring='accuracy')\n",
        "grid_search.fit(X_train, y_train)\n",
        "print(grid_search.best_params_)"
      ]
    },
    {
      "cell_type": "markdown",
      "metadata": {
        "id": "OqfCR13xSeEX"
      },
      "source": [
        "### 3.2 Tìm kiếm siêu tham số"
      ]
    },
    {
      "cell_type": "code",
      "source": [
        "# Cách 1: Dùng holdout validation để khảo sát\n",
        "param = {'n_estimators' : [30, 100], 'criterion' : ['gini', 'entropy', 'log_loss'],\n",
        "   'max_features': ['sqrt', 'log2']}\n",
        "best_accuracy = 0\n",
        "best_params = {}\n",
        "for n_estimators in param['n_estimators']:\n",
        "  for criterion in param['criterion']:\n",
        "    for max_features in param['max_features']:\n",
        "      model = RandomForestClassifier(n_estimators=n_estimators, criterion=criterion, max_features=max_features, random_state = 42)\n",
        "      model.fit(X_train, y_train)\n",
        "      # Đánh giá trên tập D_valid\n",
        "      y_valid_pred = model.predict(X_valid)\n",
        "      accuracy = accuracy_score(y_valid, y_valid_pred)\n",
        "\n",
        "      if accuracy > best_accuracy:\n",
        "          best_accuracy = accuracy\n",
        "          best_params = {'n_estimators': n_estimators, 'criterion': criterion, 'max_features': max_features}\n",
        "\n",
        "print(f\"Best parameters: {best_params} with validation accuracy: {best_accuracy}\")\n",
        "\n",
        "best_model = RandomForestClassifier(**best_params, random_state = 42)\n",
        "best_model.fit(X_train, y_train)\n",
        "y_test_pred = best_model.predict(X_test)\n",
        "test_accuracy = accuracy_score(y_test, y_test_pred)\n",
        "\n",
        "print(f\"Test accuracy with best parameters: {test_accuracy}\")\n",
        "\n",
        "\n",
        "\n"
      ],
      "metadata": {
        "id": "jP4TLHHex6WW",
        "colab": {
          "base_uri": "https://localhost:8080/"
        },
        "outputId": "de5168ac-7b34-4756-a448-7081b1f1236e"
      },
      "execution_count": null,
      "outputs": [
        {
          "output_type": "stream",
          "name": "stdout",
          "text": [
            "Best parameters: {'n_estimators': 30, 'criterion': 'entropy', 'max_features': 'sqrt'} with validation accuracy: 0.883495145631068\n",
            "Test accuracy with best parameters: 0.8743961352657005\n"
          ]
        }
      ]
    },
    {
      "cell_type": "code",
      "execution_count": null,
      "metadata": {
        "colab": {
          "base_uri": "https://localhost:8080/"
        },
        "id": "WLoajgDgSeEY",
        "outputId": "953d0540-4952-486b-9828-6fbede9a028a"
      },
      "outputs": [
        {
          "output_type": "stream",
          "name": "stdout",
          "text": [
            "Fitting 4 folds for each of 12 candidates, totalling 48 fits\n",
            "{'criterion': 'gini', 'max_features': 'sqrt', 'n_estimators': 100, 'random_state': 42}\n"
          ]
        }
      ],
      "source": [
        "# Cách 2: Dùng GridSearch\n",
        "\n",
        "param_grid = [\n",
        "   {'n_estimators' : [30, 100], 'criterion' : ['gini', 'entropy', 'log_loss'],\n",
        "   'max_features': ['sqrt', 'log2'], 'random_state': [42]}\n",
        "]\n",
        "grid_search = GridSearchCV(RandomForestClassifier(), param_grid = param_grid, cv = 4, scoring = \"accuracy\", n_jobs = 2, verbose = 1)\n",
        "grid_search.fit(X_train, y_train)\n",
        "print(grid_search.best_params_)\n"
      ]
    }
  ],
  "metadata": {
    "kernelspec": {
      "display_name": "Python 3",
      "language": "python",
      "name": "python3"
    },
    "language_info": {
      "name": "python",
      "version": ""
    },
    "colab": {
      "provenance": []
    }
  },
  "nbformat": 4,
  "nbformat_minor": 0
}